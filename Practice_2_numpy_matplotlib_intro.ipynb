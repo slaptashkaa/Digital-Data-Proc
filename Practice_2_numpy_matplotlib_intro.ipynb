{
 "cells": [
  {
   "cell_type": "markdown",
   "id": "devoted-envelope",
   "metadata": {},
   "source": [
    "# Модуль [NumPy](https://numpy.org/doc/stable/user/index.html)\n",
    "## Массивы"
   ]
  },
  {
   "cell_type": "code",
   "execution_count": 1,
   "id": "bottom-philadelphia",
   "metadata": {},
   "outputs": [],
   "source": [
    "import numpy as np"
   ]
  },
  {
   "cell_type": "code",
   "execution_count": 2,
   "id": "seven-hundred",
   "metadata": {},
   "outputs": [
    {
     "name": "stdout",
     "output_type": "stream",
     "text": [
      "<class 'numpy.ndarray'> (3,) 1 2 3\n",
      "[5 2 3]\n"
     ]
    }
   ],
   "source": [
    "a = np.array([1, 2, 3])  # Создание массива\n",
    "print(type(a), a.shape, a[0], a[1], a[2])\n",
    "a[0] = 5                 \n",
    "print(a)    "
   ]
  },
  {
   "cell_type": "code",
   "execution_count": 3,
   "id": "appreciated-threshold",
   "metadata": {},
   "outputs": [
    {
     "name": "stdout",
     "output_type": "stream",
     "text": [
      "[[1 2 3]\n",
      " [4 5 6]]\n"
     ]
    }
   ],
   "source": [
    "b = np.array([[1,2,3],[4,5,6]])   \n",
    "print(b)"
   ]
  },
  {
   "cell_type": "code",
   "execution_count": 4,
   "id": "opening-gauge",
   "metadata": {},
   "outputs": [
    {
     "name": "stdout",
     "output_type": "stream",
     "text": [
      "(2, 3)\n",
      "1 2 4\n"
     ]
    }
   ],
   "source": [
    "print(b.shape)\n",
    "print(b[0, 0], b[0, 1], b[1, 0])"
   ]
  },
  {
   "cell_type": "code",
   "execution_count": 5,
   "id": "miniature-bargain",
   "metadata": {},
   "outputs": [
    {
     "name": "stdout",
     "output_type": "stream",
     "text": [
      "[[0. 0.]\n",
      " [0. 0.]]\n"
     ]
    }
   ],
   "source": [
    "a = np.zeros((2,2))  # Создать массив из нулей\n",
    "print(a)"
   ]
  },
  {
   "cell_type": "code",
   "execution_count": 6,
   "id": "foster-going",
   "metadata": {},
   "outputs": [
    {
     "name": "stdout",
     "output_type": "stream",
     "text": [
      "[[1. 1.]]\n"
     ]
    }
   ],
   "source": [
    "b = np.ones((1,2))   # Создать массив из единиц\n",
    "print(b)"
   ]
  },
  {
   "cell_type": "code",
   "execution_count": 7,
   "id": "cubic-laptop",
   "metadata": {},
   "outputs": [
    {
     "name": "stdout",
     "output_type": "stream",
     "text": [
      "[[7 7]\n",
      " [7 7]]\n"
     ]
    }
   ],
   "source": [
    "c = np.full((2,2), 7) # Создать массив из констант\n",
    "print(c)"
   ]
  },
  {
   "cell_type": "markdown",
   "id": "covered-partition",
   "metadata": {},
   "source": [
    "## Задание"
   ]
  },
  {
   "cell_type": "code",
   "execution_count": 4,
   "id": "minute-moore",
   "metadata": {},
   "outputs": [
    {
     "name": "stdout",
     "output_type": "stream",
     "text": [
      "[[ 1  2  3  4]\n",
      " [ 5  6  7  8]\n",
      " [ 9 10 11 12]]\n"
     ]
    }
   ],
   "source": [
    "# Создайте двумерный массив размером (3, 4):\n",
    "# [[ 1  2  3  4]\n",
    "#  [ 5  6  7  8]\n",
    "#  [ 9 10 11 12]]\n",
    "\n",
    "a = np.array([[1, 2, 3, 4], [5, 6, 7, 8], [9, 10, 11, 12]])\n",
    "print(a)"
   ]
  },
  {
   "cell_type": "code",
   "execution_count": 13,
   "id": "owned-petroleum",
   "metadata": {},
   "outputs": [
    {
     "name": "stdout",
     "output_type": "stream",
     "text": [
      "[[2 3]\n",
      " [6 7]]\n"
     ]
    }
   ],
   "source": [
    "# С помощью среза получите массив, состоящий из первых двух строк и\n",
    "# столбцов 1 и 2, т.е. на выходе должен получится следующий массив размером (2, 2):\n",
    "# [[2 3]\n",
    "#  [6 7]]\n",
    "\n",
    "row_1 = a[0, 1:3]\n",
    "row_2 = a[1, 1:3]\n",
    "print(np.array([row_1, row_2]))"
   ]
  },
  {
   "cell_type": "markdown",
   "id": "attached-final",
   "metadata": {},
   "source": [
    "Индексация в массиве numpy подробно представлена в руководстве [NumPy Indexing](https://numpy.org/doc/stable/user/basics.indexing.html)."
   ]
  },
  {
   "cell_type": "markdown",
   "id": "secondary-registration",
   "metadata": {},
   "source": [
    "### Пример:"
   ]
  },
  {
   "cell_type": "code",
   "execution_count": 10,
   "id": "attached-terrace",
   "metadata": {},
   "outputs": [
    {
     "name": "stdout",
     "output_type": "stream",
     "text": [
      "[[1 2 3 4]\n",
      " [5 6 7 8]]\n"
     ]
    }
   ],
   "source": [
    "a = np.array([[1,2,3,4], [5,6,7,8]])\n",
    "print(a)"
   ]
  },
  {
   "cell_type": "code",
   "execution_count": 11,
   "id": "quantitative-attribute",
   "metadata": {},
   "outputs": [
    {
     "name": "stdout",
     "output_type": "stream",
     "text": [
      "[5 6 7 8] (4,)\n",
      "[[5 6 7 8]] (1, 4)\n",
      "[[5 6 7 8]] (1, 4)\n"
     ]
    }
   ],
   "source": [
    "row_r1 = a[1, :]      \n",
    "row_r2 = a[1:2, :]  \n",
    "row_r3 = a[[1], :]  \n",
    "print(row_r1, row_r1.shape)\n",
    "print(row_r2, row_r2.shape)\n",
    "print(row_r3, row_r3.shape)"
   ]
  },
  {
   "cell_type": "code",
   "execution_count": 12,
   "id": "fifteen-photography",
   "metadata": {},
   "outputs": [
    {
     "name": "stdout",
     "output_type": "stream",
     "text": [
      "[1 4 5]\n"
     ]
    }
   ],
   "source": [
    "a = np.array([[1,2], [3, 4], [5, 6]])\n",
    "\n",
    "# An example of integer array indexing.\n",
    "# The returned array will have shape (3,) and \n",
    "print(a[[0, 1, 2], [0, 1, 0]])"
   ]
  },
  {
   "cell_type": "markdown",
   "id": "pressing-yacht",
   "metadata": {},
   "source": [
    "### Булева индексация"
   ]
  },
  {
   "cell_type": "code",
   "execution_count": 13,
   "id": "behind-complaint",
   "metadata": {},
   "outputs": [
    {
     "name": "stdout",
     "output_type": "stream",
     "text": [
      "[[False False]\n",
      " [ True  True]\n",
      " [ True  True]]\n"
     ]
    }
   ],
   "source": [
    "a = np.array([[1,2], [3, 4], [5, 6]])\n",
    "bool_idx = (a > 2)\n",
    "print(bool_idx)"
   ]
  },
  {
   "cell_type": "code",
   "execution_count": 14,
   "id": "broken-repeat",
   "metadata": {},
   "outputs": [
    {
     "name": "stdout",
     "output_type": "stream",
     "text": [
      "[3 4 5 6]\n"
     ]
    }
   ],
   "source": [
    "print(a[bool_idx])"
   ]
  },
  {
   "cell_type": "markdown",
   "id": "overhead-jacket",
   "metadata": {},
   "source": [
    "###  Операции над массивами"
   ]
  },
  {
   "cell_type": "code",
   "execution_count": 15,
   "id": "imported-district",
   "metadata": {},
   "outputs": [
    {
     "name": "stdout",
     "output_type": "stream",
     "text": [
      "[[ 6.  8.]\n",
      " [10. 12.]]\n",
      "[[ 6.  8.]\n",
      " [10. 12.]]\n"
     ]
    }
   ],
   "source": [
    "x = np.array([[1,2],[3,4]], dtype=np.float64)\n",
    "y = np.array([[5,6],[7,8]], dtype=np.float64)\n",
    "\n",
    "print(x + y)\n",
    "print(np.add(x, y))"
   ]
  },
  {
   "cell_type": "code",
   "execution_count": 16,
   "id": "polish-consultation",
   "metadata": {},
   "outputs": [
    {
     "name": "stdout",
     "output_type": "stream",
     "text": [
      "[[-4. -4.]\n",
      " [-4. -4.]]\n",
      "[[-4. -4.]\n",
      " [-4. -4.]]\n"
     ]
    }
   ],
   "source": [
    "print(x - y)\n",
    "print(np.subtract(x, y))"
   ]
  },
  {
   "cell_type": "code",
   "execution_count": 17,
   "id": "treated-input",
   "metadata": {},
   "outputs": [
    {
     "name": "stdout",
     "output_type": "stream",
     "text": [
      "[[ 5. 12.]\n",
      " [21. 32.]]\n",
      "[[ 5. 12.]\n",
      " [21. 32.]]\n"
     ]
    }
   ],
   "source": [
    "print(x * y)\n",
    "print(np.multiply(x, y))"
   ]
  },
  {
   "cell_type": "code",
   "execution_count": 18,
   "id": "large-hostel",
   "metadata": {},
   "outputs": [
    {
     "name": "stdout",
     "output_type": "stream",
     "text": [
      "[[0.2        0.33333333]\n",
      " [0.42857143 0.5       ]]\n",
      "[[0.2        0.33333333]\n",
      " [0.42857143 0.5       ]]\n"
     ]
    }
   ],
   "source": [
    "print(x / y)\n",
    "print(np.divide(x, y))"
   ]
  },
  {
   "cell_type": "code",
   "execution_count": 19,
   "id": "instrumental-candidate",
   "metadata": {},
   "outputs": [
    {
     "name": "stdout",
     "output_type": "stream",
     "text": [
      "[[1.         1.41421356]\n",
      " [1.73205081 2.        ]]\n"
     ]
    }
   ],
   "source": [
    "print(np.sqrt(x))"
   ]
  },
  {
   "cell_type": "code",
   "execution_count": 20,
   "id": "dated-foster",
   "metadata": {},
   "outputs": [
    {
     "name": "stdout",
     "output_type": "stream",
     "text": [
      "219\n",
      "219\n"
     ]
    }
   ],
   "source": [
    "x = np.array([[1,2],[3,4]])\n",
    "y = np.array([[5,6],[7,8]])\n",
    "\n",
    "v = np.array([9,10])\n",
    "w = np.array([11, 12])\n",
    "\n",
    "print(v.dot(w))\n",
    "print(np.dot(v, w))"
   ]
  },
  {
   "cell_type": "code",
   "execution_count": 21,
   "id": "respiratory-wright",
   "metadata": {},
   "outputs": [
    {
     "name": "stdout",
     "output_type": "stream",
     "text": [
      "10\n",
      "[4 6]\n",
      "[3 7]\n"
     ]
    }
   ],
   "source": [
    "x = np.array([[1,2],[3,4]])\n",
    "\n",
    "print(np.sum(x))  \n",
    "print(np.sum(x, axis=0))  \n",
    "print(np.sum(x, axis=1))  "
   ]
  },
  {
   "cell_type": "markdown",
   "id": "heard-richards",
   "metadata": {},
   "source": [
    "# Визуализация данных"
   ]
  },
  {
   "cell_type": "code",
   "execution_count": 22,
   "id": "moderate-national",
   "metadata": {
    "scrolled": true
   },
   "outputs": [
    {
     "data": {
      "image/png": "[encoded data removed]",
      "text/plain": [
       "<Figure size 432x180 with 1 Axes>"
      ]
     },
     "metadata": {
      "needs_background": "light"
     },
     "output_type": "display_data"
    }
   ],
   "source": [
    "import numpy as np\n",
    "from matplotlib import pyplot as plt\n",
    "%matplotlib inline\n",
    "\n",
    "plt.figure(figsize=(6, 2.5))\n",
    "plt.title('Тригонометрические функции', fontsize=12)\n",
    "X = np.linspace(-np.pi, np.pi, 256, endpoint=True)\n",
    "C, S = np.cos(X), np.sin(X)\n",
    "plt.plot(X, C, color='blue', linewidth=2.0, linestyle='-', label='cos')\n",
    "plt.plot(X, S, color='red', linewidth=2.0, linestyle='-', label='sin')\n",
    "plt.legend(loc='upper left', fontsize=11)\n",
    "plt.xlim(-np.pi, np.pi)\n",
    "plt.xticks([-np.pi, -np.pi/2, 0, np.pi/2, np.pi],\n",
    "           [r'$-\\pi$', r'$-\\pi/2$', r'$0$', r'$+\\pi/2$', r'$+\\pi$'], fontsize=10)\n",
    "plt.ylim(C.min() * 1.1, C.max() * 1.1)\n",
    "plt.yticks([-1, 0, 1], fontsize=10)\n",
    "plt.xlabel('Угол (радианы)')\n",
    "plt.ylabel('Амплитуда')\n",
    "plt.tight_layout()\n",
    "plt.show() "
   ]
  },
  {
   "cell_type": "markdown",
   "id": "broad-journal",
   "metadata": {},
   "source": [
    "## Задание\n",
    "Отобразить два графика функций $sin(x)$ и $cos(x)$ в одном окне (используйте функцию [`subplot`](https://matplotlib.org/stable/api/_as_gen/matplotlib.pyplot.subplot.html) из пакета [`matplotlib.pyplot`](https://matplotlib.org/stable/api/_as_gen/matplotlib.pyplot.html).) В простейшем варианте вот так должен выглядеть ваш результат:"
   ]
  },
  {
   "cell_type": "code",
   "execution_count": 20,
   "id": "preceding-scene",
   "metadata": {},
   "outputs": [
    {
     "data": {
      "image/png": "[encoded data removed]",
      "text/plain": [
       "<Figure size 432x288 with 2 Axes>"
      ]
     },
     "metadata": {
      "needs_background": "light"
     },
     "output_type": "display_data"
    }
   ],
   "source": [
    "import numpy as np\n",
    "from matplotlib import pyplot as plt\n",
    "%matplotlib inline\n",
    "\n",
    "X = np.linspace(0, 9.3, 256, endpoint=True)\n",
    "C, S = np.cos(X), np.sin(X)\n",
    "plt.subplot(2, 1, 1)\n",
    "plt.plot(X,S)\n",
    "plt.xticks([0, 2, 4, 6, 8, 10], fontsize=10)\n",
    "plt.title(\"Sine\")\n",
    "plt.subplot(2, 1, 2)\n",
    "plt.plot(X,C)\n",
    "plt.xticks([0, 2, 4, 6, 8, 10], fontsize=10)\n",
    "plt.title(\"Cosine\")\n",
    "plt.show()"
   ]
  }
 ],
 "metadata": {
  "kernelspec": {
   "display_name": "Python 3",
   "language": "python",
   "name": "python3"
  },
  "language_info": {
   "codemirror_mode": {
    "name": "ipython",
    "version": 3
   },
   "file_extension": ".py",
   "mimetype": "text/x-python",
   "name": "python",
   "nbconvert_exporter": "python",
   "pygments_lexer": "ipython3",
   "version": "3.8.2"
  }
 },
 "nbformat": 4,
 "nbformat_minor": 5
}
